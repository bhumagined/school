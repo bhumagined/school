{
 "cells": [
  {
   "cell_type": "markdown",
   "id": "441f8c9a-1da1-4756-a670-925a3e4485c6",
   "metadata": {},
   "source": [
    "# Data Science Tools and Ecosystem"
   ]
  },
  {
   "cell_type": "markdown",
   "id": "f5488598-44ea-4b6c-a06d-b98bdd11d966",
   "metadata": {},
   "source": [
    "In this notebook, Data Science Tools and Ecoystem are summarized."
   ]
  },
  {
   "cell_type": "markdown",
   "id": "e96995c4-e9a9-4f0a-8fdb-e731b31ef76f",
   "metadata": {},
   "source": [
    "**Objectives:**\n",
    "\n",
    "- Describe the components of a Data Scientist's toolkit and list various tool categories.\n",
    "- List examples of open-source tools used in data science.\n",
    "- Describe the relevant features of open-source tools.\n",
    "- List examples of commercial and cloud-based data science tools."
   ]
  },
  {
   "cell_type": "markdown",
   "id": "e5b7b81f-a881-4704-ba01-178d7e1ddb93",
   "metadata": {},
   "source": [
    "Some of the popular languages that Data Scientists use are:\n",
    "\n",
    "- Python\n",
    "- R\n",
    "- Java\n",
    "- SQL"
   ]
  },
  {
   "cell_type": "markdown",
   "id": "ada927cf-cd68-41e8-9f55-be25caeb6acf",
   "metadata": {},
   "source": [
    "Some of the commonly used libraries used by Data Scientists include:\n",
    "\n",
    "- Matplotlab\n",
    "- NumPy\n",
    "- Pandas"
   ]
  },
  {
   "cell_type": "markdown",
   "id": "063d0b8d-b927-4061-97b8-1dd027f8b440",
   "metadata": {},
   "source": [
    "| Datascience Tools|\n",
    "| -------------|\n",
    "| JupyterLab | \n",
    "| Apache Spark| \n",
    "| Apache Hadoop| \n",
    "| Anaconda |\n",
    "| Git |"
   ]
  },
  {
   "cell_type": "markdown",
   "id": "59efcd3c-1854-4176-94c1-dcd7055df482",
   "metadata": {},
   "source": [
    "### Below are a few examples of evaluating arithetic expressions in Python"
   ]
  },
  {
   "cell_type": "code",
   "execution_count": 3,
   "id": "95efbb04-895b-42a3-b544-4e7c76e62085",
   "metadata": {},
   "outputs": [
    {
     "data": {
      "text/plain": [
       "17"
      ]
     },
     "execution_count": 3,
     "metadata": {},
     "output_type": "execute_result"
    }
   ],
   "source": [
    "#This is a simple arithmetic expression to multiply thne add integers\n",
    "(3*4) + 5"
   ]
  },
  {
   "cell_type": "code",
   "execution_count": 5,
   "id": "3f8f2952-11a1-4925-99b7-f802069c8ad2",
   "metadata": {},
   "outputs": [
    {
     "data": {
      "text/plain": [
       "3.3333333333333335"
      ]
     },
     "execution_count": 5,
     "metadata": {},
     "output_type": "execute_result"
    }
   ],
   "source": [
    "#This will convert 200 minsute to hours by dividing by 60\n",
    "200 / 60"
   ]
  },
  {
   "cell_type": "markdown",
   "id": "81dc496d-9191-4a5b-bbe0-79320943100b",
   "metadata": {},
   "source": [
    "## Author\n",
    "Bryce Arii "
   ]
  },
  {
   "cell_type": "code",
   "execution_count": null,
   "id": "72d4755f-33cd-47a3-bab7-052142d0aad8",
   "metadata": {},
   "outputs": [],
   "source": []
  }
 ],
 "metadata": {
  "kernelspec": {
   "display_name": "Python 3 (ipykernel)",
   "language": "python",
   "name": "python3"
  },
  "language_info": {
   "codemirror_mode": {
    "name": "ipython",
    "version": 3
   },
   "file_extension": ".py",
   "mimetype": "text/x-python",
   "name": "python",
   "nbconvert_exporter": "python",
   "pygments_lexer": "ipython3",
   "version": "3.13.0"
  }
 },
 "nbformat": 4,
 "nbformat_minor": 5
}
